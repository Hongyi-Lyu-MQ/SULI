{
 "cells": [
  {
   "cell_type": "code",
   "execution_count": null,
   "id": "66178a84",
   "metadata": {},
   "outputs": [
    {
     "name": "stdout",
     "output_type": "stream",
     "text": [
      "Downloading https://www.cs.toronto.edu/~kriz/cifar-10-python.tar.gz to ./data\\cifar-10-python.tar.gz\n"
     ]
    },
    {
     "name": "stderr",
     "output_type": "stream",
     "text": [
      "100%|██████████| 170498071/170498071 [00:26<00:00, 6451631.00it/s]\n"
     ]
    },
    {
     "name": "stdout",
     "output_type": "stream",
     "text": [
      "Extracting ./data\\cifar-10-python.tar.gz to ./data\n"
     ]
    }
   ],
   "source": [
    "from config.config import DEVICE, FORGET_CLASS_IDXS\n",
    "from utils.data_utils import load_cifar10_data, split_dataset\n",
    "from models.models import create_timm_model\n",
    "from utils.eval_utils import evaluate_instance_model_accuracy\n",
    "from methods.unlearning import distill_with_soft_relabel, sort_data_loader_by_entropy, SelfUnlearning_Layered_Iteration\n",
    "\n",
    "import torch\n",
    "from torch.utils.data import DataLoader\n",
    "\n",
    "if __name__ == '__main__':\n",
    "    train_loader, test_loader = load_cifar10_data()\n",
    "    forget_data, retain_data = split_dataset(train_loader.dataset, FORGET_CLASS_IDXS)\n",
    "    forget_loader = DataLoader(forget_data, batch_size=256, shuffle=True)\n",
    "    retain_loader = DataLoader(retain_data, batch_size=256, shuffle=True)\n",
    "    # load the target model\n",
    "    original_model = create_timm_model().to(DEVICE)\n",
    "    original_model.load_state_dict(\n",
    "        torch.hub.load_state_dict_from_url(\n",
    "            \"https://huggingface.co/edadaltocg/resnet18_cifar10/resolve/main/pytorch_model.bin\",\n",
    "            map_location=\"cpu\",\n",
    "            file_name=\"resnet18_cifar10.pth\"\n",
    "        )\n",
    "    )\n",
    "    original_model.eval()\n",
    "    print(\"original model evaluation:\")\n",
    "    evaluate_instance_model_accuracy(original_model, test_loader, forget_loader, retain_loader, DEVICE)\n",
    "\n",
    "    print(\"\\n===== SU (Self Unlearning) =====\")\n",
    "    SU_model = create_timm_model().to(DEVICE)\n",
    "    SU_model.load_state_dict(original_model.state_dict())\n",
    "    optimizer = torch.optim.Adam(SU_model.parameters(), lr=0.0001)\n",
    "    SU_model = distill_with_soft_relabel(\n",
    "        original_model, SU_model, forget_loader, optimizer,\n",
    "        forget_class_idxs=FORGET_CLASS_IDXS, epochs=10, device=DEVICE\n",
    "    )\n",
    "    print(\"SU model evaluation:\")\n",
    "    evaluate_instance_model_accuracy(SU_model, test_loader, forget_loader, retain_loader, DEVICE)\n",
    "\n",
    "    print(\"\\n===== SULI (Self-Unlearning Layered Iteration) =====\")\n",
    "    SULI_model = create_timm_model().to(DEVICE)\n",
    "    SULI_model.load_state_dict(original_model.state_dict())\n",
    "    sorted_loader = sort_data_loader_by_entropy(original_model, forget_loader, DEVICE, batch_size_per_loader=500)\n",
    "    SULI_model = SelfUnlearning_Layered_Iteration(\n",
    "        SULI_model, sorted_loaders=sorted_loader, forget_class_idxs=FORGET_CLASS_IDXS,\n",
    "        forget_loader=forget_loader, epochs=10, device=DEVICE, lr=0.0001\n",
    "    )\n",
    "    print(\"SULI model evaluation:\")\n",
    "    evaluate_instance_model_accuracy(SULI_model, test_loader, forget_loader, retain_loader, DEVICE)\n"
   ]
  }
 ],
 "metadata": {
  "kernelspec": {
   "display_name": "Python 3",
   "language": "python",
   "name": "python3"
  },
  "language_info": {
   "codemirror_mode": {
    "name": "ipython",
    "version": 3
   },
   "file_extension": ".py",
   "mimetype": "text/x-python",
   "name": "python",
   "nbconvert_exporter": "python",
   "pygments_lexer": "ipython3",
   "version": "3.11.5"
  }
 },
 "nbformat": 4,
 "nbformat_minor": 5
}
